{
 "cells": [
  {
   "cell_type": "markdown",
   "id": "1b1d129c",
   "metadata": {},
   "source": [
    "# GGR376 Week 11: Class demonstration"
   ]
  },
  {
   "cell_type": "markdown",
   "id": "1659e81b",
   "metadata": {},
   "source": [
    "## Python Basics\n",
    "\n",
    "### Variables, viewing data, data types"
   ]
  },
  {
   "cell_type": "code",
   "execution_count": null,
   "id": "a998c377",
   "metadata": {},
   "outputs": [],
   "source": [
    "# This is a comment and will not be recognised when cell is run\n",
    "\n",
    "# Variables and data types\n",
    "name = \"Lindsey\"          # String (text)\n",
    "a = 11                    # Integer (numeric)\n",
    "b = 5.0                   # Float (numeric)\n",
    "c = \"9\"                   # String (text)\n",
    "is_student = False        # Boolean\n"
   ]
  },
  {
   "cell_type": "markdown",
   "id": "03e04f95",
   "metadata": {},
   "source": [
    "### Viewing output"
   ]
  },
  {
   "cell_type": "code",
   "execution_count": null,
   "id": "e9c65c93",
   "metadata": {},
   "outputs": [],
   "source": [
    "name"
   ]
  },
  {
   "cell_type": "code",
   "execution_count": null,
   "id": "0148ae37",
   "metadata": {},
   "outputs": [],
   "source": [
    "print(name)"
   ]
  },
  {
   "cell_type": "code",
   "execution_count": null,
   "id": "cd4a62e0",
   "metadata": {},
   "outputs": [],
   "source": [
    "print(a + b)"
   ]
  },
  {
   "cell_type": "code",
   "execution_count": null,
   "id": "814da9ff",
   "metadata": {},
   "outputs": [],
   "source": [
    "print(a, c)"
   ]
  },
  {
   "cell_type": "markdown",
   "id": "313de89e",
   "metadata": {},
   "source": [
    "### Control structures"
   ]
  },
  {
   "cell_type": "code",
   "execution_count": null,
   "id": "99a44aa8",
   "metadata": {},
   "outputs": [],
   "source": [
    "# Conditional Statements (if-else)\n",
    "if a < 10:\n",
    "    print(\"Number is less than 10\")\n",
    "else:\n",
    "    print(\"Number is greater than 10\")"
   ]
  },
  {
   "cell_type": "code",
   "execution_count": null,
   "id": "048ea241",
   "metadata": {},
   "outputs": [],
   "source": [
    "# For loops\n",
    "for i in range(5):   # Start for loop that iterates over range of numbers from 0 to 4\n",
    "    print(i)         # Print value of i in current iteration of the loop"
   ]
  },
  {
   "cell_type": "code",
   "execution_count": null,
   "id": "bc759ed8",
   "metadata": {},
   "outputs": [],
   "source": [
    "while b < 10:        # Start while loop that will executes as long as b < 10\n",
    "    print(b)         # Print current value of b\n",
    "    b += 1           # Increment b by 1 for each iteration of the loop"
   ]
  },
  {
   "cell_type": "markdown",
   "id": "beb70191",
   "metadata": {},
   "source": [
    "### Functions"
   ]
  },
  {
   "cell_type": "code",
   "execution_count": null,
   "id": "11666e29",
   "metadata": {},
   "outputs": [],
   "source": [
    "def sayhi(firstname):\n",
    "    print(\"Hi\", firstname, \"!\")\n",
    "\n",
    "#sayhi(\"Emma\")\n",
    "#sayhi(name)\n",
    "#sayhi(c)"
   ]
  },
  {
   "cell_type": "code",
   "execution_count": null,
   "id": "fdf3fa75",
   "metadata": {},
   "outputs": [],
   "source": [
    "def dosomemaths(x, y):\n",
    "    print(x + y)\n",
    "    \n",
    "dosomemaths(a, b)"
   ]
  },
  {
   "cell_type": "markdown",
   "id": "a4d51f2a",
   "metadata": {},
   "source": [
    "## Python Libraries\n",
    "### [Geopandas library](https://geopandas.org/en/stable/docs.html)"
   ]
  },
  {
   "cell_type": "code",
   "execution_count": null,
   "id": "b018033f",
   "metadata": {},
   "outputs": [],
   "source": [
    "import geopandas as gpd"
   ]
  },
  {
   "cell_type": "code",
   "execution_count": null,
   "id": "618b60e0",
   "metadata": {},
   "outputs": [],
   "source": [
    "# Manually point to projections library to avoid error when reading shapefile\n",
    "import os\n",
    "os.environ['PROJ_LIB'] = '/opt/conda/share/proj'"
   ]
  },
  {
   "cell_type": "code",
   "execution_count": null,
   "id": "dbf9c461",
   "metadata": {},
   "outputs": [],
   "source": [
    "# Read in a shapefile and create a geodataframe\n",
    "gdf = gpd.read_file('data/Toronto_Pop_CT2021_Python.shp')"
   ]
  },
  {
   "cell_type": "code",
   "execution_count": null,
   "id": "ad0788e7",
   "metadata": {},
   "outputs": [],
   "source": [
    "# View top five rows of data\n",
    "gdf.head()"
   ]
  },
  {
   "cell_type": "code",
   "execution_count": null,
   "id": "220b14c8",
   "metadata": {},
   "outputs": [],
   "source": [
    "# Get summary statistics for each attribute field\n",
    "gdf.describe()"
   ]
  },
  {
   "cell_type": "code",
   "execution_count": null,
   "id": "2566d9a6",
   "metadata": {},
   "outputs": [],
   "source": [
    "# Create a basic plot of the geodataframe geometries\n",
    "gdf.plot()"
   ]
  },
  {
   "cell_type": "code",
   "execution_count": null,
   "id": "b42ccf71",
   "metadata": {},
   "outputs": [],
   "source": [
    "gdf['PopDens21'].plot(kind='hist')     # Geopandas method\n",
    "#gdf['PopDens21'].hist()               # Pandas method"
   ]
  },
  {
   "cell_type": "code",
   "execution_count": null,
   "id": "4a54554b",
   "metadata": {},
   "outputs": [],
   "source": [
    "# Increase complexity of plot of the geodataframe geometries and attribute data\n",
    "gdf.plot(column='PopDens21',\n",
    "        cmap='PuRd',\n",
    "        scheme='quantiles',\n",
    "        legend=True)\n"
   ]
  },
  {
   "cell_type": "markdown",
   "id": "91fb7956",
   "metadata": {},
   "source": [
    "### Matplotlib plotly library"
   ]
  },
  {
   "cell_type": "code",
   "execution_count": null,
   "id": "413933cf",
   "metadata": {},
   "outputs": [],
   "source": [
    "import matplotlib.pyplot as plt"
   ]
  },
  {
   "cell_type": "code",
   "execution_count": null,
   "id": "400a4883",
   "metadata": {},
   "outputs": [],
   "source": [
    "plt.hist(gdf['PopDens21'])       # Matplotlib method"
   ]
  },
  {
   "cell_type": "markdown",
   "id": "a2d09e57",
   "metadata": {},
   "source": [
    "### Update plot using matplotlib functions"
   ]
  },
  {
   "cell_type": "code",
   "execution_count": null,
   "id": "ace56bb8",
   "metadata": {},
   "outputs": [],
   "source": [
    "# Geopandas plot method leverages matplotlib functionality\n",
    "gdf.plot(column='PopDens21',\n",
    "        cmap='PuRd',\n",
    "        scheme='quantiles',\n",
    "        legend=True,\n",
    "        legend_kwds={'loc': 'upper left', 'bbox_to_anchor':(1,1)})\n",
    "\n",
    "# Matplotlib methods can be used to add map elements\n",
    "plt.title('Map of population density, Toronto 2021')       # Add title to plot\n",
    "plt.axis('off')                                            # Remove axes\n",
    "plt.show()"
   ]
  },
  {
   "cell_type": "markdown",
   "id": "24d9846f",
   "metadata": {},
   "source": [
    "### Create subplots to display multiple plots on same figure"
   ]
  },
  {
   "cell_type": "code",
   "execution_count": null,
   "id": "0b14779e",
   "metadata": {},
   "outputs": [],
   "source": [
    "# Create a new geodataframe of centroid points\n",
    "centroids_gdf = gpd.GeoDataFrame(gdf.centroid, columns=['geometry',])"
   ]
  },
  {
   "cell_type": "code",
   "execution_count": null,
   "id": "0d65e185",
   "metadata": {},
   "outputs": [],
   "source": [
    "# Create subplots\n",
    "fig, ax = plt.subplots(1,2, figsize=(10,8))\n",
    "gdf.plot(ax = ax[0])\n",
    "centroids_gdf.plot(ax = ax[1],\n",
    "         color='pink')\n"
   ]
  },
  {
   "cell_type": "code",
   "execution_count": null,
   "id": "7e536325",
   "metadata": {},
   "outputs": [],
   "source": [
    "# Increase complexity of subplot\n",
    "fig, ax = plt.subplots(figsize=(10,8)) # 'fig' refers to the canvas area and 'ax' to the sublot within the canvas. Here we set the subplot size to accommodate our symbols (without setting figure size, the default canvas size will be used)\n",
    "\n",
    "# Plot a simple basemap of census tract polygons\n",
    "gdf.plot(ax = ax,                                       # Draw geodataframe on subplot ax\n",
    "        facecolor='lightgray',\n",
    "        edgecolor='gray')\n",
    "\n",
    "# Add symbols for CT centroids\n",
    "centroids_gdf.plot(ax = ax,                             # Draw point geodataframe on same subplot ax\n",
    "          color='blue',\n",
    "          label = 'CT centroid')                        # Specify label for legend\n",
    "\n",
    "# Add legend to subplot (legend includes all entries with a label)\n",
    "plt.legend()\n",
    "plt.show()"
   ]
  },
  {
   "cell_type": "markdown",
   "id": "7f777fa2",
   "metadata": {},
   "source": [
    "## Animated plots\n",
    "### [Plotly express library](https://plotly.com/python/animations/)"
   ]
  },
  {
   "cell_type": "code",
   "execution_count": null,
   "id": "247244ba",
   "metadata": {},
   "outputs": [],
   "source": [
    "import plotly.express as px\n",
    "\n",
    "df = px.data.gapminder()\n",
    "\n",
    "df"
   ]
  },
  {
   "cell_type": "code",
   "execution_count": null,
   "id": "8534b123",
   "metadata": {},
   "outputs": [],
   "source": [
    "px.scatter(df, \n",
    "           x=\"gdpPercap\", \n",
    "           y=\"lifeExp\", \n",
    "           animation_frame=\"year\",\n",
    "           size=\"pop\", \n",
    "           color=\"continent\", \n",
    "           hover_name=\"country\",\n",
    "           log_x=True, \n",
    "           size_max=55, \n",
    "           range_x=[100,100000], \n",
    "           range_y=[25,90])"
   ]
  },
  {
   "cell_type": "code",
   "execution_count": null,
   "id": "fb53a597",
   "metadata": {},
   "outputs": [],
   "source": []
  }
 ],
 "metadata": {
  "kernelspec": {
   "display_name": "Python 3 (ipykernel)",
   "language": "python",
   "name": "python3"
  },
  "language_info": {
   "codemirror_mode": {
    "name": "ipython",
    "version": 3
   },
   "file_extension": ".py",
   "mimetype": "text/x-python",
   "name": "python",
   "nbconvert_exporter": "python",
   "pygments_lexer": "ipython3",
   "version": "3.11.6"
  }
 },
 "nbformat": 4,
 "nbformat_minor": 5
}
