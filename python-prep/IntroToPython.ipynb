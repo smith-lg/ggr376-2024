{
 "cells": [
  {
   "cell_type": "markdown",
   "id": "09d6e964",
   "metadata": {},
   "source": [
    "# Python Handbook\n",
    "By Aisha Nur Syed "
   ]
  },
  {
   "cell_type": "markdown",
   "id": "276b9f30",
   "metadata": {},
   "source": [
    "## Table of Contents:\n",
    "* [Why Python?](#WhyPython)\n",
    "* [Notebook Basics](#NoteBasics)\n",
    "* [Variables](#vars)\n",
    "    * [Naming Variables](#naming-vars)\n",
    "* [Libraries](#libs)\n",
    "* [Data Types](#DT)\n",
    "    * [Text Data](#TextData)\n",
    "    * [Numeric Data](#NumData)\n",
    "    * [True/False Data](#TFData)\n",
    "    * [Array](#array)\n",
    "        * [Ordered](#a-ordered)\n",
    "        * [Mutable](#a-mutable)\n",
    "* [Loops](#loops)\n",
    "    * [If Statements](#if)\n",
    "    * [For Loops](#for)\n",
    "    * [If Statement in For Loop](#for-if)\n",
    "* [Functions](#funcs)\n",
    "* [Non-Spatial Data in Python](#data)\n",
    "    * [Load Data](#load)\n",
    "    * [View Data](#view)\n",
    "    * [Select Data](#select)\n",
    "    * [Save Data](#save)\n",
    "- [Translating Python to English](#translate)"
   ]
  },
  {
   "cell_type": "markdown",
   "id": "12abb6d4",
   "metadata": {},
   "source": [
    "## Why Python? <a class=\"anchor\" id=\"WhyPython\"></a>"
   ]
  },
  {
   "cell_type": "markdown",
   "id": "cead9114",
   "metadata": {},
   "source": [
    "Python is useful for visualization because it is:\n",
    "- Precise\n",
    "- Open source\n",
    "- Customizable\n",
    "\n",
    "Many coders keep their past projects for future reference. Feel free to save this notebook to help you understand and/or write code in the future!"
   ]
  },
  {
   "cell_type": "markdown",
   "id": "ded182cd",
   "metadata": {},
   "source": [
    "## Notebook Basics<a class=\"anchor\" id=\"NoteBasics\"></a>"
   ]
  },
  {
   "cell_type": "markdown",
   "id": "77e44f88",
   "metadata": {},
   "source": [
    "This notebook will have code cells and markdown cells. This text is in a markdown cell, and is not coded in Python. You can tell this is a markdown cell because there is no **In [    ]:** next to it. You don't have to worry about running / editing these, as I will only use these to explain concepts."
   ]
  },
  {
   "cell_type": "code",
   "execution_count": null,
   "id": "6dd804c1",
   "metadata": {},
   "outputs": [],
   "source": [
    "#This block is a code cell and is runnable! If you run this, there will be no output, and you will learn why soon..."
   ]
  },
  {
   "cell_type": "code",
   "execution_count": null,
   "id": "b5b03859",
   "metadata": {},
   "outputs": [],
   "source": [
    "#This block will have an output, try running it and see what an output looks like!\n",
    "print(\"Python is fun!\")"
   ]
  },
  {
   "cell_type": "code",
   "execution_count": null,
   "id": "067854b8",
   "metadata": {},
   "outputs": [],
   "source": [
    "#Sometimes a cell will run, but it will not have an output. This is because it throws an error.\n",
    "print(\"this gives an error)"
   ]
  },
  {
   "cell_type": "markdown",
   "id": "7243048d",
   "metadata": {},
   "source": [
    "## Variables<a class=\"anchor\" id=\"vars\"></a>"
   ]
  },
  {
   "cell_type": "markdown",
   "id": "905aa5b4",
   "metadata": {},
   "source": [
    "Variables store values. Varaibles will never have quotations around them."
   ]
  },
  {
   "cell_type": "code",
   "execution_count": null,
   "id": "73878904",
   "metadata": {},
   "outputs": [],
   "source": [
    "x = 2\n",
    "y = \"cat\"\n",
    "print(x)\n",
    "print(y)"
   ]
  },
  {
   "cell_type": "markdown",
   "id": "0d231f0a",
   "metadata": {},
   "source": [
    "You can overwrite variables..."
   ]
  },
  {
   "cell_type": "code",
   "execution_count": null,
   "id": "3a83e359",
   "metadata": {},
   "outputs": [],
   "source": [
    "x = 3\n",
    "x"
   ]
  },
  {
   "cell_type": "markdown",
   "id": "62fa6886",
   "metadata": {},
   "source": [
    "Do math with variables..."
   ]
  },
  {
   "cell_type": "code",
   "execution_count": null,
   "id": "463e6a54",
   "metadata": {},
   "outputs": [],
   "source": [
    "z = 5\n",
    "print(x*z)"
   ]
  },
  {
   "cell_type": "markdown",
   "id": "dbe82824",
   "metadata": {},
   "source": [
    "and contain many values in one variable."
   ]
  },
  {
   "cell_type": "code",
   "execution_count": null,
   "id": "9306250a",
   "metadata": {},
   "outputs": [],
   "source": [
    "animals = [y, \"dog\", \"owl\"]\n",
    "\n",
    "print(animals)"
   ]
  },
  {
   "cell_type": "markdown",
   "id": "e7b32e58",
   "metadata": {},
   "source": [
    "### Naming variables<a class=\"anchor\" id=\"naming-vars\"></a>"
   ]
  },
  {
   "cell_type": "markdown",
   "id": "f1f8d655",
   "metadata": {},
   "source": [
    "Variable names:\n",
    "- Are case sensitive\n",
    "- Must start with a letter or _\n",
    "- Can only contain alpha-numeric characters and underscores\n",
    "- Cannot contain spaces\n",
    "\n",
    "Variable names should be descriptive and simple. If you want to used multiple words to create your variable name, you can use:\n",
    "- Camel case (`totalVolume`)\n",
    "- Underscores (`total_volume`)"
   ]
  },
  {
   "cell_type": "code",
   "execution_count": null,
   "id": "3fa04477",
   "metadata": {},
   "outputs": [],
   "source": [
    "#Good and legal variable names\n",
    "var1 = 2\n",
    "myName = \"Aisha\"\n",
    "waterVol_mL = 7.5"
   ]
  },
  {
   "cell_type": "code",
   "execution_count": null,
   "id": "fbbfa1bf",
   "metadata": {},
   "outputs": [],
   "source": [
    "#Bad and legal variable names\n",
    "myfirstvariable = 2\n",
    "guesswhatthismeans = [\"a\", \"f\", \"c\"]\n",
    "mynameis = \"Aisha\"\n",
    "amOUntoFwaterImeasuredonmyplantsleaf3 = 7.5"
   ]
  },
  {
   "cell_type": "code",
   "execution_count": null,
   "id": "cd2d661a",
   "metadata": {},
   "outputs": [],
   "source": [
    "#Illegal variable names\n",
    "1stvar = 2\n",
    "my-name = \"Aisha\"\n",
    "water volume = 7.5"
   ]
  },
  {
   "cell_type": "markdown",
   "id": "90fd8154",
   "metadata": {},
   "source": [
    "## Libraries<a class=\"anchor\" id=\"libs\"></a>"
   ]
  },
  {
   "cell_type": "markdown",
   "id": "377ac3f1",
   "metadata": {},
   "source": [
    "Python also contains libraries that contain variables, functions, and data types that we may want to use."
   ]
  },
  {
   "cell_type": "code",
   "execution_count": null,
   "id": "96f66cf7",
   "metadata": {},
   "outputs": [],
   "source": [
    "import numpy as np #numpy contains common math variables and allows us to use arrays\n",
    "import pandas as pd #pandas is used to work with data\n",
    "import matplotlib.pyplot as plt #used to plot graphs"
   ]
  },
  {
   "cell_type": "code",
   "execution_count": null,
   "id": "d38bbc56",
   "metadata": {},
   "outputs": [],
   "source": [
    "pi = np.pi\n",
    "print(pi)"
   ]
  },
  {
   "cell_type": "markdown",
   "id": "bae9eb75",
   "metadata": {},
   "source": [
    "Not all libraries are installed on JupyterHub. You can install libraries that are not part of the environment."
   ]
  },
  {
   "cell_type": "code",
   "execution_count": null,
   "id": "89cdca1e",
   "metadata": {},
   "outputs": [],
   "source": [
    "!pip install laspy\n",
    "\n",
    "#You still have to import libraries after you install them\n",
    "import laspy"
   ]
  },
  {
   "cell_type": "markdown",
   "id": "2aa5fa5f",
   "metadata": {},
   "source": [
    "## Data Types<a class=\"anchor\" id=\"DT\"></a>"
   ]
  },
  {
   "cell_type": "markdown",
   "id": "e4416f13",
   "metadata": {},
   "source": [
    "Variables are stored as different data types. Data types have different features.\n",
    "- Text: `str`\n",
    "- Numeric: `float` or `int`\n",
    "- Boolean (True/False): `bool`\n",
    "- Iterable collection of items: `array`"
   ]
  },
  {
   "cell_type": "markdown",
   "id": "c1193d50",
   "metadata": {},
   "source": [
    "### Text data<a class=\"anchor\" id=\"TextData\"></a>"
   ]
  },
  {
   "cell_type": "code",
   "execution_count": null,
   "id": "64c395e7",
   "metadata": {},
   "outputs": [],
   "source": [
    "print(y)\n",
    "print(type(y))"
   ]
  },
  {
   "cell_type": "markdown",
   "id": "ceae8f84",
   "metadata": {},
   "source": [
    "### Numeric data<a class=\"anchor\" id=\"NumData\"></a>"
   ]
  },
  {
   "cell_type": "markdown",
   "id": "4f204855",
   "metadata": {},
   "source": [
    "`float` data is contains decimals, and `int` data is an integer."
   ]
  },
  {
   "cell_type": "code",
   "execution_count": null,
   "id": "d3c10b5f",
   "metadata": {},
   "outputs": [],
   "source": [
    "print(x)\n",
    "print(type(x))\n",
    "print(type(3.0))"
   ]
  },
  {
   "cell_type": "markdown",
   "id": "bedf9136",
   "metadata": {},
   "source": [
    "### True/False data<a class=\"anchor\" id=\"TFData\"></a>"
   ]
  },
  {
   "cell_type": "markdown",
   "id": "12618f8e",
   "metadata": {},
   "source": [
    "`bool` data is either `TRUE` or `FALSE`. Boolean data is rarely defined by the user (though it can be), and is instead the outcome of checking if a condition is met."
   ]
  },
  {
   "cell_type": "code",
   "execution_count": null,
   "id": "c1e95306",
   "metadata": {},
   "outputs": [],
   "source": [
    "print(type(True))"
   ]
  },
  {
   "cell_type": "code",
   "execution_count": null,
   "id": "ef6855c5",
   "metadata": {},
   "outputs": [],
   "source": [
    "check1 = 5 > 4\n",
    "print(\"5 > 4 is\", check1)\n",
    "print(type(check1))"
   ]
  },
  {
   "cell_type": "code",
   "execution_count": null,
   "id": "4ad1ad8c",
   "metadata": {},
   "outputs": [],
   "source": [
    "check2 = 8 > 100\n",
    "print(\"8 > 100 is\", check2)\n",
    "print(type(check2))"
   ]
  },
  {
   "cell_type": "markdown",
   "id": "9f4de53f",
   "metadata": {},
   "source": [
    "### Array<a class=\"anchor\" id=\"array\"></a>"
   ]
  },
  {
   "cell_type": "markdown",
   "id": "91a9e3cf",
   "metadata": {},
   "source": [
    "An array is an iterable collections of data. They are one variable that can hold multiple values. Each value they hold is called an item or element. Arrays are:\n",
    "- Ordered\n",
    "- Mutable\n",
    "- Can hold non-unique items"
   ]
  },
  {
   "cell_type": "markdown",
   "id": "ff335e5c",
   "metadata": {},
   "source": [
    "#### Ordered<a class=\"anchor\" id=\"a-ordered\"></a>"
   ]
  },
  {
   "cell_type": "markdown",
   "id": "4e93fae0",
   "metadata": {},
   "source": [
    "Choosing an element out of an array is called \"indexing\" when you access it by its index number. An index number is the ordered position of the element in the array. The index starts from 0."
   ]
  },
  {
   "cell_type": "code",
   "execution_count": null,
   "id": "9f3b3512",
   "metadata": {},
   "outputs": [],
   "source": [
    "numArray = [2,5,7,2,3]\n",
    "\n",
    "#get the first element of the array\n",
    "numArray[0]"
   ]
  },
  {
   "cell_type": "markdown",
   "id": "25155756",
   "metadata": {},
   "source": [
    "You can choose a negetive number for the index as well. When you use a negative number, you count backwards. Thus, the last element of the array has an index of -1."
   ]
  },
  {
   "cell_type": "code",
   "execution_count": null,
   "id": "94c9e385",
   "metadata": {},
   "outputs": [],
   "source": [
    "numArray[-1]"
   ]
  },
  {
   "cell_type": "markdown",
   "id": "146a2d99",
   "metadata": {},
   "source": [
    "#### Mutable<a class=\"anchor\" id=\"a-mutable\"></a>"
   ]
  },
  {
   "cell_type": "markdown",
   "id": "fb4b1338",
   "metadata": {},
   "source": [
    "Let's start off with an empty array."
   ]
  },
  {
   "cell_type": "code",
   "execution_count": null,
   "id": "85b6a7dc",
   "metadata": {},
   "outputs": [],
   "source": [
    "emptyArray = []\n",
    "print(emptyArray)"
   ]
  },
  {
   "cell_type": "markdown",
   "id": "588e7f52",
   "metadata": {},
   "source": [
    "You can add one item to an array..."
   ]
  },
  {
   "cell_type": "code",
   "execution_count": null,
   "id": "d4367d8a",
   "metadata": {},
   "outputs": [],
   "source": [
    "emptyArray.append(\"cat\")\n",
    "print(emptyArray)"
   ]
  },
  {
   "cell_type": "markdown",
   "id": "17bba681",
   "metadata": {},
   "source": [
    "You can add multiple items to an array..."
   ]
  },
  {
   "cell_type": "code",
   "execution_count": null,
   "id": "67b870be",
   "metadata": {},
   "outputs": [],
   "source": [
    "emptyArray.extend([\"cat\", \"dog\", \"owl\"])\n",
    "print(emptyArray)"
   ]
  },
  {
   "cell_type": "markdown",
   "id": "f8f7001e",
   "metadata": {},
   "source": [
    "## Loops<a class=\"anchor\" id=\"loops\"></a>"
   ]
  },
  {
   "cell_type": "markdown",
   "id": "5445ca49",
   "metadata": {},
   "source": [
    "Loops check for conditions and run, or iterate over an object, until the condition is no longer `TRUE`. You can use different expressions to write conditions:\n",
    "- `==` is equal to\n",
    "- `!=` is not equal to\n",
    "- `>` is greater than\n",
    "- `>=` is greater than or equal to\n",
    "- `<` is less than\n",
    "- `<=` is less than or equal to \n",
    "\n",
    "You can also use logical operators:\n",
    "- `and`\n",
    "- `or`\n",
    "- `not`"
   ]
  },
  {
   "cell_type": "markdown",
   "id": "782f1042",
   "metadata": {},
   "source": [
    "<img src = \"AndOr.png\" style = \"height:280px\" title = \"And vs Or Diagram\">"
   ]
  },
  {
   "cell_type": "markdown",
   "id": "ebf64a73",
   "metadata": {},
   "source": [
    "### If Statements<a class=\"anchor\" id=\"if\"></a>"
   ]
  },
  {
   "cell_type": "markdown",
   "id": "88533863",
   "metadata": {},
   "source": [
    "Structure of an if statement: <br>\n",
    "if condition:<br>\n",
    "&nbsp; expression <br>\n",
    "\n",
    "If statements check if the condition is true. If the condition is true, then the expression code runs. If the condition is false, then the expression code does not run.    "
   ]
  },
  {
   "cell_type": "code",
   "execution_count": null,
   "id": "496fb48f",
   "metadata": {},
   "outputs": [],
   "source": [
    "# Note that indentation is important. You can either use a space or a tab to indent. Be consistent!\n",
    "\n",
    "if 5 > 4:\n",
    "    print(\"5 is greater than 4.\")\n",
    "    print(\"The condition is true.\")"
   ]
  },
  {
   "cell_type": "code",
   "execution_count": null,
   "id": "0cd72faa",
   "metadata": {},
   "outputs": [],
   "source": [
    "if 5 > 4:\n",
    "    print(\"5 is greater than 4.\")\n",
    "     print(\"The condition is true.\")"
   ]
  },
  {
   "cell_type": "code",
   "execution_count": null,
   "id": "c31279bf",
   "metadata": {},
   "outputs": [],
   "source": [
    "if 5 < 4:\n",
    "    print(\"5 is less than 4.\")\n",
    "    print(\"The condition is true.\")"
   ]
  },
  {
   "cell_type": "markdown",
   "id": "52cb2098",
   "metadata": {},
   "source": [
    "### For Loops <a class=\"anchor\" id=\"for\"></a>\n",
    "Structure of for loop: <br>\n",
    "for element in array:<br>\n",
    "&nbsp; expression <br>\n",
    "\n",
    "For loops iterate over elements in an array to perform the same operation on every item in the given array. Similar to if statements, indentation matters."
   ]
  },
  {
   "cell_type": "code",
   "execution_count": null,
   "id": "c1a14aaf",
   "metadata": {},
   "outputs": [],
   "source": [
    "exArray  = [2, 5, 3, 2, 4]\n",
    "\n",
    "for i in range(len(exArray)):\n",
    "    element = exArray[i]\n",
    "    print(element)"
   ]
  },
  {
   "cell_type": "code",
   "execution_count": null,
   "id": "fad442a4",
   "metadata": {},
   "outputs": [],
   "source": [
    "range(len(exArray))"
   ]
  },
  {
   "cell_type": "code",
   "execution_count": null,
   "id": "8853365c",
   "metadata": {},
   "outputs": [],
   "source": [
    "for ele in exArray:\n",
    "    print(ele)"
   ]
  },
  {
   "cell_type": "markdown",
   "id": "d510ffcb",
   "metadata": {},
   "source": [
    "### If Statement in For Loop <a class=\"anchor\" id=\"for-if\"></a>\n",
    "You can combine for loops and if statements to run an expression on elements in an array if the condition is true."
   ]
  },
  {
   "cell_type": "code",
   "execution_count": null,
   "id": "0faea341",
   "metadata": {},
   "outputs": [],
   "source": [
    "for i in range(len(exArray)):\n",
    "    element = exArray[i]\n",
    "    if element != 2:\n",
    "        print(element)"
   ]
  },
  {
   "cell_type": "markdown",
   "id": "290a88d9",
   "metadata": {},
   "source": [
    "#### And and Or"
   ]
  },
  {
   "cell_type": "code",
   "execution_count": null,
   "id": "63421515",
   "metadata": {},
   "outputs": [],
   "source": [
    "zeroToTen = range(0,11)\n",
    "\n",
    "for i in zeroToTen:\n",
    "    if i > 2 and i < 8:\n",
    "        print(i)"
   ]
  },
  {
   "cell_type": "code",
   "execution_count": null,
   "id": "b7240281",
   "metadata": {},
   "outputs": [],
   "source": [
    "for i in zeroToTen:\n",
    "    if i > 2 or i < 8:\n",
    "        print(i)"
   ]
  },
  {
   "cell_type": "code",
   "execution_count": null,
   "id": "402259b1",
   "metadata": {},
   "outputs": [],
   "source": [
    "for i in zeroToTen:\n",
    "    if not(i > 2 and i < 8):\n",
    "        print(i)"
   ]
  },
  {
   "cell_type": "markdown",
   "id": "dd092413",
   "metadata": {},
   "source": [
    "## Functions<a class=\"anchor\" id=\"funcs\"></a>"
   ]
  },
  {
   "cell_type": "markdown",
   "id": "239c8cfe",
   "metadata": {},
   "source": [
    "Functions allow you to run a block of code. You can create your own function..."
   ]
  },
  {
   "cell_type": "code",
   "execution_count": null,
   "id": "70909b3a",
   "metadata": {},
   "outputs": [],
   "source": [
    "def function_name(argument1, argument2):\n",
    "    Sum = argument1 + argument2\n",
    "    return (Sum)"
   ]
  },
  {
   "cell_type": "markdown",
   "id": "224786d7",
   "metadata": {},
   "source": [
    "When you run a function, it is called calling a function..."
   ]
  },
  {
   "cell_type": "code",
   "execution_count": null,
   "id": "e4b0bafb",
   "metadata": {},
   "outputs": [],
   "source": [
    "function_name(3,7)"
   ]
  },
  {
   "cell_type": "markdown",
   "id": "68d6d967",
   "metadata": {},
   "source": [
    "You can call exisiting functions..."
   ]
  },
  {
   "cell_type": "code",
   "execution_count": null,
   "id": "e1133ebb",
   "metadata": {},
   "outputs": [],
   "source": [
    "np.sum(exArray)"
   ]
  },
  {
   "cell_type": "markdown",
   "id": "ab686632",
   "metadata": {},
   "source": [
    "## Non-Spatial Data in Python<a class=\"anchor\" id=\"data\"></a>"
   ]
  },
  {
   "cell_type": "markdown",
   "id": "09293de8",
   "metadata": {},
   "source": [
    "### Load Data<a class=\"anchor\" id=\"load\"></a>"
   ]
  },
  {
   "cell_type": "markdown",
   "id": "3b13cdf7",
   "metadata": {},
   "source": [
    "Now that we have an understanding of Python syntax, we can explore data with the popular python library `pandas`. We will look at data from the Institute of Museum and Library Services that contains the name, type, location, and revenue for every museum in the United States. For more information about the dataset, you can visit [this website](https://www.kaggle.com/datasets/imls/museum-directory/). "
   ]
  },
  {
   "cell_type": "code",
   "execution_count": null,
   "id": "606d5e03",
   "metadata": {},
   "outputs": [],
   "source": [
    "# Load data\n",
    "museums = pd.read_csv(\"museums.csv\", low_memory = False)"
   ]
  },
  {
   "cell_type": "markdown",
   "id": "6a69d0e4",
   "metadata": {},
   "source": [
    "### View Data<a class=\"anchor\" id=\"view\"></a>"
   ]
  },
  {
   "cell_type": "code",
   "execution_count": null,
   "id": "e2510403",
   "metadata": {},
   "outputs": [],
   "source": [
    "museums.head()"
   ]
  },
  {
   "cell_type": "code",
   "execution_count": null,
   "id": "fc015154",
   "metadata": {},
   "outputs": [],
   "source": [
    "museums.tail(3)"
   ]
  },
  {
   "cell_type": "markdown",
   "id": "9d694fde",
   "metadata": {},
   "source": [
    "### Select Data<a class=\"anchor\" id=\"select\"></a>"
   ]
  },
  {
   "cell_type": "code",
   "execution_count": null,
   "id": "02b18df5",
   "metadata": {},
   "outputs": [],
   "source": [
    "museums.columns"
   ]
  },
  {
   "cell_type": "code",
   "execution_count": null,
   "id": "b008e6e2",
   "metadata": {
    "slideshow": {
     "slide_type": "slide"
    }
   },
   "outputs": [],
   "source": [
    "ColsInterest = [\"Museum Name\", \"Museum Type\", \"City (Administrative Location)\", \"Revenue\"]\n",
    "museums[ColsInterest].head()"
   ]
  },
  {
   "cell_type": "code",
   "execution_count": null,
   "id": "1c5e13aa",
   "metadata": {},
   "outputs": [],
   "source": [
    "museums.loc[0:5, ColsInterest]"
   ]
  },
  {
   "cell_type": "markdown",
   "id": "eb350a44",
   "metadata": {},
   "source": [
    "### Save Data<a class=\"anchor\" id=\"save\"></a>"
   ]
  },
  {
   "cell_type": "code",
   "execution_count": null,
   "id": "28dfd423",
   "metadata": {},
   "outputs": [],
   "source": [
    "df = museums.iloc[:, -4:-1]\n",
    "df"
   ]
  },
  {
   "cell_type": "code",
   "execution_count": null,
   "id": "bd661704",
   "metadata": {},
   "outputs": [],
   "source": [
    "df.to_csv(\"MuseumTaxInfo.csv\")"
   ]
  },
  {
   "cell_type": "markdown",
   "id": "ab5b5445",
   "metadata": {},
   "source": [
    "## Translating Python to English<a class=\"anchor\" id=\"translate\"></a>"
   ]
  },
  {
   "cell_type": "code",
   "execution_count": null,
   "id": "b50b0778",
   "metadata": {},
   "outputs": [],
   "source": [
    "x = 3 #set var x to equal 3\n",
    "y = 4 #set var y to equal 4\n",
    "print(x, \"+\", y, \"=\", x + y) #output: 3 + 4 = 7"
   ]
  },
  {
   "cell_type": "code",
   "execution_count": null,
   "id": "db299b7c",
   "metadata": {},
   "outputs": [],
   "source": [
    "digits = list(range(10)) #set digits var to equal range up to 10\n",
    "GreaterThan5 = [] #creating an empty array calling it GreaterThan5\n",
    "\n",
    "for i in (range(len(digits))): #iterate over numbers 1-9\n",
    "    num = digits[i] #num is an element of array digits (numbers 1-9)\n",
    "    if num > 5:\n",
    "        GreaterThan5.append(num) #add the number to GreaterThan5 array\n",
    "        \n",
    "GreaterThan5 #array of numbers greater than 5"
   ]
  },
  {
   "cell_type": "code",
   "execution_count": null,
   "id": "34fc903d",
   "metadata": {},
   "outputs": [],
   "source": [
    "museums[\"Income\"].describe() #selecting income col from museum dataframe and generate desc stats"
   ]
  },
  {
   "cell_type": "code",
   "execution_count": null,
   "id": "5b0a03de",
   "metadata": {},
   "outputs": [],
   "source": [
    "plt.hist(museums[\"Income\"], bins = 100) #plot a histogram income with 100 bins\n",
    "plt.show() #show the figure"
   ]
  }
 ],
 "metadata": {
  "kernelspec": {
   "display_name": "Python 3 (ipykernel)",
   "language": "python",
   "name": "python3"
  },
  "language_info": {
   "codemirror_mode": {
    "name": "ipython",
    "version": 3
   },
   "file_extension": ".py",
   "mimetype": "text/x-python",
   "name": "python",
   "nbconvert_exporter": "python",
   "pygments_lexer": "ipython3",
   "version": "3.9.12"
  }
 },
 "nbformat": 4,
 "nbformat_minor": 5
}
