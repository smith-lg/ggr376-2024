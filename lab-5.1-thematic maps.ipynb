{
 "cells": [
  {
   "cell_type": "markdown",
   "id": "f1c9a73c",
   "metadata": {},
   "source": [
    "# GGR376 LAB 5.1: Creating thematic maps using Python (10 marks)"
   ]
  },
  {
   "cell_type": "markdown",
   "id": "24a27309",
   "metadata": {},
   "source": [
    "### Exploratory data analysis (EDA)\n",
    "In week 11 we discussed the importance of EDA for providing insights into data. Python and Jupyter notebooks provide an excellent tool for EDA, allowing the analyst to i) manipulate and visualize data comprehensively and ii) systematically document their workflow for other specialists to replicate. This capability empowers analysts to understand data structure and uncover patterns and outliers effectively. Such insights are valuable for informing decision-making around future analyses and visualization.\n",
    "\n",
    "Let's start by exploring the population density by census tract data we used in Lab 1. We will use the [geopandas](https://geopandas.org/en/stable/docs/user_guide.html) library which is an extension of the data processing library, **pandas**, that allows us to work with spatial data. Data are stored as a **GeoDataFrame**: a tabular structure with a geometry field containing information aboout geometry type (e.g., point, line, or polygon) and location (e.g., coordinates).\n",
    "\n",
    "We will also use the [matplot](https://matplotlib.org/stable/users/index.html) library to visualize the distribution of the data and plot different chart types.\n",
    "\n",
    "\n",
    "As you progress through the notebook, look out for headings labelled **Your turn**. These sections are designed for you to apply concepts from the lecture and worksheet. In each **Your turn** section, you are expected to write code to achieve a specified outcome. To earn full marks, your code must include clear comments to demonstrate your understanding of concepts and code functionality. "
   ]
  },
  {
   "cell_type": "code",
   "execution_count": null,
   "id": "fa2edbf0",
   "metadata": {},
   "outputs": [],
   "source": [
    "# Import the libraries we will be using\n",
    "import geopandas as gpd # 'as' provides an alias for the library that can be referenced in other code cells\n",
    "import matplotlib.pyplot as plt"
   ]
  },
  {
   "cell_type": "code",
   "execution_count": null,
   "id": "0d475cb5",
   "metadata": {},
   "outputs": [],
   "source": [
    "# Read in the population shapefile from the 'data' folder and store as a geodataframe\n",
    "torontopop21 = gpd.read_file('data/Toronto_Pop_CT2021_Python.shp')\n",
    "\n",
    "# View the top five rows of data from the geodataframe to get a quick idea of the data structure and attributes\n",
    "torontopop21.head()"
   ]
  },
  {
   "cell_type": "markdown",
   "id": "07c43745",
   "metadata": {},
   "source": [
    "In Python, **methods** are functions that are associated with objects. In this instance we are interested in functions associated with the **geodataframe object**.\n",
    "\n",
    "Below are some useful Geopandas methods that allow us to get a sense of our data by exploring basic statistics and properties, such as data types, summary values, and geographic extent. \n",
    "\n",
    "```python\n",
    "\n",
    "# Get the geometry type of the data\n",
    "geodataframename.geom_type\n",
    "\n",
    "# View and change coordinate reference systems\n",
    "geodataframename.crs\n",
    "geodataframename = torontopop21.to_crs(epsg=4326)\n",
    "\n",
    "# Check for missing data\n",
    "geodataframename.isnull().sum()\n",
    "\n",
    "# Calculate summary statistics of attribute fields\n",
    "geodataframename.describe()\n",
    "\n",
    "# For geometries, you can check bounding box, area, length, etc.\n",
    "geodataframename['area'] = geodataframename.geometry.area\n",
    "\n",
    "```\n",
    "\n",
    "*Tip:*\n",
    "- *When retrieving an attribute value such as a geometry type or CRS, parentheses are not required (e.g., .crs). However, when calling a method that performs some computation, such as returning a table of summary values, parentheses are required (e.g., .describe() )*\n"
   ]
  },
  {
   "cell_type": "markdown",
   "id": "15a161ec",
   "metadata": {},
   "source": [
    "Let's put some of those exploratory methods into action!"
   ]
  },
  {
   "cell_type": "code",
   "execution_count": null,
   "id": "833f836b",
   "metadata": {},
   "outputs": [],
   "source": [
    "# View coordinate reference system\n",
    "torontopop21.crs"
   ]
  },
  {
   "cell_type": "markdown",
   "id": "b835ba00",
   "metadata": {},
   "source": [
    "The shapefile uses the Canada Albers Equal Area Conic projection to **preserve area** within regions in Canada. It represents the Earth's surface on a flat, 2-D plane with units in metres (eastings and northings)."
   ]
  },
  {
   "cell_type": "code",
   "execution_count": null,
   "id": "b058c622",
   "metadata": {},
   "outputs": [],
   "source": [
    "# View some basic statistics about the population density column\n",
    "torontopop21['PopDens21'].describe()"
   ]
  },
  {
   "cell_type": "markdown",
   "id": "27544c17",
   "metadata": {},
   "source": [
    "There are 583 census tracts with a mean population density of 8468.2 people per sq km. "
   ]
  },
  {
   "cell_type": "markdown",
   "id": "b1f95de6",
   "metadata": {},
   "source": [
    "### Your turn (1 mark):\n",
    "In the following cell, return the summary statistics for all fields in the geodataframe"
   ]
  },
  {
   "cell_type": "code",
   "execution_count": null,
   "id": "376502e8",
   "metadata": {},
   "outputs": [],
   "source": []
  },
  {
   "cell_type": "markdown",
   "id": "e64ad190",
   "metadata": {},
   "source": [
    "### Exploratory visualizations\n",
    "Now we have an idea about the data structure, we can create some exploratory visualizations. \n",
    "\n",
    "The [.plot()](https://geopandas.org/en/stable/docs/reference/api/geopandas.GeoDataFrame.plot.html) method in geopandas allows us to create a map of a GeoDataFrame. In its simplest form **i.e. geodataframename.plot()**, a plot of geometries will be returned. However, it's possible to edit the output by adding parameters into the parentheses. For example, you can specify a field to plot data values, add a legend, change colour scheme, or change the plot type from the default map to an alternative chart such as a boxplot or histogram. Take time to explore the linked documentation to understand the different options.\n",
    "\n",
    "Although we call the .plot() method on a geodataframe, it actually leverages the matplotlib library (remember we gave this library the alias 'plt' when we imported it in cell 1). It is therefore possible to combine matplotlib functions with the output to add a title, axes labels etc. \n",
    "\n",
    "There are several libraries that allow us to create charts. It is possible to use functions within the matplotlib library to create a [range of charts](https://matplotlib.org/stable/plot_types/index) such as data distribution charts (e.g., histograms, boxplots), statistical plots (e.g., scatter plots), and 3D charts (e.g., surface plots). The pandas library can also leverage matplotlib to create [non-spatial charts](https://pandas.pydata.org/docs/user_guide/visualization.html).\n"
   ]
  },
  {
   "cell_type": "markdown",
   "id": "9c97973f",
   "metadata": {},
   "source": [
    "### Your turn (1 mark):\n",
    "In the following cell, create a basic plot of census tract polygons"
   ]
  },
  {
   "cell_type": "code",
   "execution_count": null,
   "id": "2d628324",
   "metadata": {},
   "outputs": [],
   "source": []
  },
  {
   "cell_type": "code",
   "execution_count": null,
   "id": "a9a9d2b2",
   "metadata": {},
   "outputs": [],
   "source": [
    "# Use the geopandas .plot() method to plot an unclassified choropleth and see what the raw data show\n",
    "torontopop21.plot(column='PopDens21', # Plot data for popn density field\n",
    "                  legend=True, # Add legend\n",
    "                  legend_kwds = {'label': \"Population density by census tract (2021)\"}) # Add legend options, in this case add a label\n",
    "\n",
    "# Use matplotlib function to add title for plot\n",
    "plt.title('Population density by census tract, Toronto (2021)')\n",
    "\n",
    "# Add axes labels\n",
    "plt.xlabel('Eastings [m]')\n",
    "plt.ylabel('Northings [m]')\n",
    "\n",
    "# Display plot\n",
    "plt.show()"
   ]
  },
  {
   "cell_type": "markdown",
   "id": "ea168cb0",
   "metadata": {},
   "source": [
    "The **unclassified choropleth** provides a preliminary visual representation of the general distribution of the data, and has the potential to reveal outliers or natural clusters in the data. Let's also look at a histogram of the data to inform the classification process.\n"
   ]
  },
  {
   "cell_type": "code",
   "execution_count": null,
   "id": "642037e4",
   "metadata": {},
   "outputs": [],
   "source": [
    "# Use pandas .hist() method to plot a histogram and explore the data further\n",
    "torontopop21['PopDens21'].hist()\n",
    "\n",
    "# Alternative approaches to create a histogram\n",
    "# matplotlib\n",
    "#plt.hist(torontopop21['PopDens21'])\n",
    "\n",
    "# geopandas\n",
    "#torontopop21['PopDens21'].plot(kind='hist')\n",
    "\n",
    "plt.title('Distribution of population density by census tracts in Toronto, 2021')\n",
    "plt.xlabel('Population density [people per square km]')\n",
    "plt.ylabel('Number of census tracts')\n",
    "plt.show()"
   ]
  },
  {
   "cell_type": "markdown",
   "id": "99dace4b",
   "metadata": {},
   "source": [
    "Both the unclassified choropleth and histogram indicate a **positive skew** in the data. \n",
    "\n",
    "It seems there's also a small number of CTs with a particularly high population density; the locations of which can be inferred from the map. We can quickly check the rows wth the highest population density values to see if there's anything that looks out of the ordinary with these outliers."
   ]
  },
  {
   "cell_type": "code",
   "execution_count": null,
   "id": "4499f7d2",
   "metadata": {},
   "outputs": [],
   "source": [
    "# Sort the data by population density in descending order and get the top 5 rows\n",
    "top_5_density = torontopop21.nlargest(5, 'PopDens21')\n",
    "\n",
    "print(\"Top 5 rows with the highest population density:\")\n",
    "print(top_5_density)"
   ]
  },
  {
   "cell_type": "markdown",
   "id": "e3fbbb15",
   "metadata": {},
   "source": [
    "### Choropleth map\n",
    "There appears to be one CT with a particularly high population count but this is consistent with data recorded in 2016 so let's assume the value is valid.\n",
    "\n",
    "Next we will create a classified choropleth map. Given the positive skew of the data, equal intervals are not appropriate as this would lead to an unequal distribution of observations across the classes and grouping of dissimilar values. We will therefore use **quantiles**. Quantiles divide data into equal portions based on frequency of data points and often handle skewed distributions more effectively by ensuring each group contains a similar number of observations."
   ]
  },
  {
   "cell_type": "code",
   "execution_count": null,
   "id": "2eef5967",
   "metadata": {},
   "outputs": [],
   "source": [
    "# Create a choropleth map with five quantiles (quintiles)\n",
    "torontopop21.plot(column= 'PopDens21',\n",
    "                  legend=True,\n",
    "                  cmap='BuPu', # Specify a colour map\n",
    "                  scheme=\"quantiles\", k=5, # Classify data by quintiles\n",
    "                  legend_kwds={'loc': 'upper left', # Choose point on legend box to use for anchoring\n",
    "                               'bbox_to_anchor':(1,1) # Anchor legend outside plot where (0,0) = bottom-left and (1,1) = top-right\n",
    "                              }\n",
    "                 ).set_axis_off(); # Turn axes lines and labels off"
   ]
  },
  {
   "cell_type": "markdown",
   "id": "f565483c",
   "metadata": {},
   "source": [
    "So far we have created static maps, but introducing interactivity can enhance our understanding of the data by allowing us to zoom/pan into areas of interest and  to click on map features to retrieve associated information. We can create interactive maps using the [.explore()](https://geopandas.org/en/stable/docs/reference/api/geopandas.GeoDataFrame.explore.html) method which leverages a library called **folium** to create a webmap."
   ]
  },
  {
   "cell_type": "code",
   "execution_count": null,
   "id": "964c6577",
   "metadata": {},
   "outputs": [],
   "source": [
    "# Use the .explore() method to create an interactive map\n",
    "torontopop21.explore(\"PopDens21\", \n",
    "                     legend=False,\n",
    "                     cmap='BuPu',\n",
    "                     scheme=\"quantiles\", k=5)\n",
    "\n",
    "# Hover mouse over census tracts to see a pop-up of attribute values"
   ]
  },
  {
   "cell_type": "markdown",
   "id": "74212516",
   "metadata": {},
   "source": [
    "### Your turn (3 marks):\n",
    "Using the code above for reference, create the following visualizations:\n",
    "1. box plot of population density data for 2016 and 2021 (hint: this is possible using [pandas](https://pandas.pydata.org/docs/user_guide/visualization.html#visualization-box), [matplotlib](https://www.geeksforgeeks.org/box-plot-in-python-using-matplotlib/), or [geopandas](https://geopandas.org/en/stable/docs/reference/api/geopandas.GeoDataFrame.plot.html) libraries. To add multiple fields as parameters, double square brackets must be used e.g., torontopop21[['PopDens16', 'PopDens21']])\n",
    "2. static choropleth of 2016 population density data classified with 4 [natural breaks](https://geopandas.org/en/stable/docs/reference/api/geopandas.GeoDataFrame.plot.html)\n",
    "3. [interactive choropleth](https://geopandas.org/en/stable/docs/user_guide/interactive_mapping.html) of 2016 population density data using the same classification and colour scheme as the static map\n",
    "\n",
    "As a minimum, you are expected to change the [colour scheme](https://matplotlib.org/stable/gallery/color/colormap_reference.html), update the number of classes, and add comments to describe what each section of code does. **Be creative with your updates!**"
   ]
  },
  {
   "cell_type": "code",
   "execution_count": null,
   "id": "7d21ea34",
   "metadata": {},
   "outputs": [],
   "source": [
    "# Start by creating and calculating a new field for population density\n",
    "# Calculate area in square kilometers from the geometry field\n",
    "torontopop21['Area_km2'] = torontopop21['geometry'].area / 10**6  # convert area to square kilometers\n",
    "\n",
    "# Calculate population density and assign it to a new column 'PopDens16'\n",
    "torontopop21['PopDens16'] = torontopop21['Popn16'] / torontopop21['Area_km2']\n",
    "\n",
    "torontopop21.head()"
   ]
  },
  {
   "cell_type": "code",
   "execution_count": null,
   "id": "0d844997",
   "metadata": {},
   "outputs": [],
   "source": [
    "# 1. Box plot\n",
    "# Insert your code here and run the cell...\n",
    "\n"
   ]
  },
  {
   "cell_type": "code",
   "execution_count": null,
   "id": "6c73664a",
   "metadata": {},
   "outputs": [],
   "source": [
    "# Static map\n",
    "# Insert your code here and run the cell...\n",
    "\n"
   ]
  },
  {
   "cell_type": "code",
   "execution_count": null,
   "id": "ccaedc71",
   "metadata": {},
   "outputs": [],
   "source": [
    "# Interactive map\n",
    "# Insert your code here and run the cell...\n",
    "\n"
   ]
  },
  {
   "cell_type": "markdown",
   "id": "25970330",
   "metadata": {},
   "source": [
    "### Proportional symbols maps\n",
    "Next we will aim to create a proportional symbols map of percentage of population change between 2021 and 2016. As a reminder, proportional symbol maps use symbols where the size of the symbol is proportional to the value of the data being represented. A greater percentage of change will therefore be represented by a larger symbol where its size is relative to the value on a continuous (unclassified) data scale.\n",
    "\n",
    "Let's start by creating a **simple proportional symbols map of raw population counts for 2021**. This will require some data preparation to first create a geodataframe of points and to second join our new points geodataframe to our original data. Take time to explore the methods required for this:\n",
    "\n",
    "- [geopandas .centroid()](https://geopandas.org/en/stable/docs/reference/api/geopandas.GeoSeries.centroid.html)\n",
    "- [pandas .join()](https://pandas.pydata.org/docs/reference/api/pandas.DataFrame.join.html)\n"
   ]
  },
  {
   "cell_type": "code",
   "execution_count": null,
   "id": "6e163733",
   "metadata": {},
   "outputs": [],
   "source": [
    "# Extract the centroids of census tract polygons as a new geodataframe so that the points can be used to place symbols\n",
    "tractcentroids = gpd.GeoDataFrame(torontopop21.centroid, columns=['geometry',])\n",
    "\n",
    "# Create non-spatial subset of original data and retain desired attribute values\n",
    "popdens = torontopop21[['CTNAME','Popn16', 'Popn21', 'PopDens16', 'PopDens21']].copy()\n",
    "\n",
    "# Join non-spatial data with new points data\n",
    "tractcentroids = tractcentroids.join(popdens)\n",
    "\n",
    "# Show top five rows of new point data\n",
    "tractcentroids.head()\n"
   ]
  },
  {
   "cell_type": "markdown",
   "id": "00bf02f4",
   "metadata": {},
   "source": [
    "For the proportional symbols map, let's add a layer showing the census tract outlines. To create and manage **multiple plots within a single figure**, we can use the matplotlib [.subplots()](https://matplotlib.org/stable/api/_as_gen/matplotlib.pyplot.subplots.html) function."
   ]
  },
  {
   "cell_type": "code",
   "execution_count": null,
   "id": "247c0826",
   "metadata": {},
   "outputs": [],
   "source": [
    "# Set the symbol size to the 2021 absolute population value. We divide by 100 here to make the the symbol size more appropriate for the display\n",
    "symbol = (tractcentroids['Popn21']/100)\n",
    "\n",
    "# Create a subplot to plot both layers\n",
    "fig, ax = plt.subplots(figsize=(10,8)) # 'fig' refers to the canvas area and 'ax' to the sublot within the canvas. Here we set the subplot size to accommodate our symbols (without setting figure size, the default canvas size will be used)\n",
    "\n",
    "# Plot a simple basemap of census tract polygons\n",
    "torontopop21.plot(ax = ax, # Draw geodataframe on subplot ax\n",
    "                  facecolor='lightgray',\n",
    "                  edgecolor='gray')\n",
    "\n",
    "# Add proportional symbols for population counts\n",
    "tractcentroids.plot(ax = ax, # Draw point geodataframe on same subplot ax\n",
    "                     markersize=symbol, # Set marker to our symbol size previously calculated\n",
    "                     color='blue',\n",
    "                     label = '2021 Population by census tract') # Specify label for legend\n",
    "\n",
    "# Add legend to subplot (legend includes all entries with a label)\n",
    "ax.legend()"
   ]
  },
  {
   "cell_type": "markdown",
   "id": "75285d87",
   "metadata": {},
   "source": [
    "### Your turn (4 marks):\n",
    "Using the code above for guidance, create the following visualization:\n",
    "- A proportional symbols map of percentage change of raw population between 2016 and 2021\n",
    "\n",
    "The following three steps will help you achieve this:\n",
    "1. Create a new field `PcChange` to store percentage of population change for your **geodataframe of points** where:\n",
    "\n",
    "$$ \\text{Percentage Change} = \\frac{\\text{New Value} - \\text{Old Value}}{\\text{Old Value}} \\times 100 $$\n",
    "\n",
    "2. Create two new fields for your **geodataframe of points** storing values for percentage increase and percentage decrease\n",
    "\n",
    "3. Use the matplotlib [.subplots()](https://matplotlib.org/stable/api/_as_gen/matplotlib.pyplot.subplots.html) function to plot percentage increase and percentage decrease on the same subplot\n",
    "\n",
    "\n"
   ]
  },
  {
   "cell_type": "code",
   "execution_count": null,
   "id": "241171be",
   "metadata": {},
   "outputs": [],
   "source": [
    "# 1. Calculate percentage change in population and store value in new field 'PcChange'\n",
    "# Insert your code here and run the cell...\n",
    "\n"
   ]
  },
  {
   "cell_type": "markdown",
   "id": "4f95ae7b",
   "metadata": {},
   "source": [
    "Next we will create two new fields to visualize on the same subplot. Using the **Python handbook**, see if you can work out what is happening in the following cell.\n",
    "\n",
    "**Add comments using the # symbol to explain what each row of code does.**"
   ]
  },
  {
   "cell_type": "code",
   "execution_count": null,
   "id": "ee22d854",
   "metadata": {},
   "outputs": [],
   "source": [
    "# 2. Add and populate fields for percentage increase and decrease\n",
    "\n",
    "### ADD COMMENTS to each line of code below and run the cell...\n",
    "\n",
    "tractcentroids['PcInc'] = 0.0\n",
    "tractcentroids['PcDec'] = 0.0\n",
    "\n",
    "for i in range(0, len(tractcentroids)):\n",
    "    pcvalue = tractcentroids.loc[i, 'PcChange']\n",
    "    if pcvalue > 0: \n",
    "        tractcentroids.loc[i,'PcInc'] = pcvalue\n",
    "    else: \n",
    "        tractcentroids.loc[i,'PcDec'] = (pcvalue*-1)\n",
    "\n",
    "tractcentroids.head()\n"
   ]
  },
  {
   "cell_type": "code",
   "execution_count": null,
   "id": "1f139f55",
   "metadata": {},
   "outputs": [],
   "source": [
    "# 3. Create proportional symbols plot of percentage change in Toronto between 2016 and 2021\n",
    "# Insert your code here and run the cell...\n",
    "\n"
   ]
  },
  {
   "cell_type": "markdown",
   "id": "ffbd291a",
   "metadata": {},
   "source": [
    "Once you have completed the lab, export your notebook by selecting File > Print Preview > Save as PDF\n",
    "\n",
    "Upload your PDF to Part 1 of the lab in Quercus."
   ]
  }
 ],
 "metadata": {
  "kernelspec": {
   "display_name": "Python 3 (ipykernel)",
   "language": "python",
   "name": "python3"
  },
  "language_info": {
   "codemirror_mode": {
    "name": "ipython",
    "version": 3
   },
   "file_extension": ".py",
   "mimetype": "text/x-python",
   "name": "python",
   "nbconvert_exporter": "python",
   "pygments_lexer": "ipython3",
   "version": "3.11.6"
  }
 },
 "nbformat": 4,
 "nbformat_minor": 5
}
