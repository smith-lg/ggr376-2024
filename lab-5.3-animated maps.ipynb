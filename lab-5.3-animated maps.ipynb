{
 "cells": [
  {
   "cell_type": "markdown",
   "id": "45f12fa7",
   "metadata": {},
   "source": [
    "# GGR376 LAB 5.3: Creating a time series animation using Python (2 marks)"
   ]
  },
  {
   "cell_type": "markdown",
   "id": "c764cce1",
   "metadata": {},
   "source": [
    "In this final section of the lab we will be using the [express](https://plotly.com/python/plotly-express/) module from the **plotly** library to create simple animated visualizations. We will work with point and linear representations of historical tornado data in Ontario (as used in Lab 3)."
   ]
  },
  {
   "cell_type": "code",
   "execution_count": null,
   "id": "1671aaec",
   "metadata": {},
   "outputs": [],
   "source": [
    "# Import libraries\n",
    "import geopandas as gpd\n",
    "import pandas as pd\n",
    "import numpy as np\n",
    "import plotly.express as px\n",
    "import shapely.geometry"
   ]
  },
  {
   "cell_type": "code",
   "execution_count": null,
   "id": "ac632406",
   "metadata": {},
   "outputs": [],
   "source": [
    "# Manually point to projections library to avoid error when reading shapefile\n",
    "import os\n",
    "os.environ['PROJ_LIB'] = '/opt/conda/share/proj'"
   ]
  },
  {
   "cell_type": "code",
   "execution_count": null,
   "id": "d3f986ab",
   "metadata": {},
   "outputs": [],
   "source": [
    "# Read in the shapefile of tornado points and view the top 5 rows\n",
    "tornadopnts = gpd.read_file('data/tornadopoints.shp')\n",
    "tornadopnts.head()"
   ]
  },
  {
   "cell_type": "markdown",
   "id": "bd4517ed",
   "metadata": {},
   "source": [
    "### Explore and prepare the data for animation"
   ]
  },
  {
   "cell_type": "code",
   "execution_count": null,
   "id": "0b03361a",
   "metadata": {},
   "outputs": [],
   "source": [
    "# Check the points plot as expected using basic geopandas plot method\n",
    "tornadopnts.plot()"
   ]
  },
  {
   "cell_type": "code",
   "execution_count": null,
   "id": "ec02a967",
   "metadata": {},
   "outputs": [],
   "source": [
    "# Create new field to store the year each tornado was recorded\n",
    "tornadopnts['year'] = tornadopnts['YYYYMMDDHH'].str[:4] # str[] function reads the specified number of characters from the left of a text field\n",
    "tornadopnts.head()"
   ]
  },
  {
   "cell_type": "markdown",
   "id": "78237117",
   "metadata": {},
   "source": [
    "### Animate tornado point locations\n",
    "Our point data are ready for animation! Below is a simple block of code that creates an animated map of tornado points by year. Click on the scatter_geo function and hold SHIFT + TAB keys to explore the possible parameters. You may also refer to the documentation for applied examples of [scatter_geo](https://plotly.com/python/scatter-plots-on-maps/)."
   ]
  },
  {
   "cell_type": "code",
   "execution_count": null,
   "id": "48bad3f4",
   "metadata": {},
   "outputs": [],
   "source": [
    "# Create animated scatter plot of tornado points by year\n",
    "fig = px.scatter_geo(tornadopnts,\n",
    "                    lat=tornadopnts.geometry.y,\n",
    "                    lon=tornadopnts.geometry.x,\n",
    "                    animation_frame='year')\n",
    "\n",
    "fig.update_layout(\n",
    "        title = 'Tornado start points in Southern Ontario<br>(1980 to 2009)',\n",
    "        geo_scope = 'north america')\n",
    "\n",
    "\n",
    "fig.show()\n",
    "\n",
    "\n",
    "#Zoom in to Ontario on the map to see animation more clearly"
   ]
  },
  {
   "cell_type": "markdown",
   "id": "b9fd66b7",
   "metadata": {},
   "source": [
    "### Your turn (1 mark):\n",
    "Update the code to include at least two additional parameters. For example, you may set the size, color, or add a pop-up on hover. Add comments explaining what your new parameters do."
   ]
  },
  {
   "cell_type": "code",
   "execution_count": null,
   "id": "468f23a2",
   "metadata": {},
   "outputs": [],
   "source": [
    "### EXAMPLE UPDATES\n",
    "fig = px.scatter_geo(tornadopnts,\n",
    "                    lat=tornadopnts.geometry.y,\n",
    "                    lon=tornadopnts.geometry.x,\n",
    "                    hover_name='NEAR_CMMTY',\n",
    "                    size='LENGTH_M',\n",
    "                    color='year',\n",
    "                    animation_frame='year')\n",
    "\n",
    "fig.update_layout(\n",
    "        title = 'Tornado start points in Southern Ontario<br>(1980 to 2009)',\n",
    "        geo_scope = 'north america')\n",
    "\n",
    "\n",
    "fig.show()"
   ]
  },
  {
   "cell_type": "markdown",
   "id": "6eb1119d",
   "metadata": {},
   "source": [
    "### Animate tornado tracks\n",
    "Next we will work with the linear tornado tracks. Animating linear features is a little trickier than points but you will start to gain an understanding of how it is possible to animate one line at a time."
   ]
  },
  {
   "cell_type": "code",
   "execution_count": null,
   "id": "adc300ca",
   "metadata": {},
   "outputs": [],
   "source": [
    "# Read in the Tornado tracks shapefile\n",
    "tornadotrks = gpd.read_file('data/tornadotracks.shp')\n",
    "tornadotrks.head()"
   ]
  },
  {
   "cell_type": "code",
   "execution_count": null,
   "id": "e3f9258e",
   "metadata": {},
   "outputs": [],
   "source": [
    "# Check the plot using pandas plot method\n",
    "tornadotrks.plot()"
   ]
  },
  {
   "cell_type": "markdown",
   "id": "c734a734",
   "metadata": {},
   "source": [
    "Line maps can be animated with plotly express using arrays of XY values. Remember from part 2 of the lab that the numpy library is useful for working with arrays.\n",
    "\n",
    "It is possible to extract data from a GeoDataFrame and store data as arrays. The code below initializes empty arrays and then loops through each row of the GeoDataFrame, storing values from select fields.\n",
    "\n",
    "**Review the following code block and add see if you can add comments to each line, explaining what each section does.** This will not be graded but you will find it helpful for improving your understanding of Python. Use the python handbook for reference."
   ]
  },
  {
   "cell_type": "code",
   "execution_count": null,
   "id": "dabfa024",
   "metadata": {},
   "outputs": [],
   "source": [
    "lats = []\n",
    "lons = []\n",
    "names = []\n",
    "dates = []\n",
    "\n",
    "for feature, name, date in zip(tornadotrks.geometry, tornadotrks.NEAR_CMMTY, tornadotrks.YYYYMMDDHH):\n",
    "    if isinstance(feature, shapely.geometry.linestring.LineString):\n",
    "        linestrings = [feature]\n",
    "    else:\n",
    "        continue\n",
    "    for linestring in linestrings:\n",
    "        x, y = linestring.xy\n",
    "        lats = np.append(lats, y)\n",
    "        lons = np.append(lons, x)\n",
    "        names = np.append(names, [name]*len(y))\n",
    "        dates = np.append(dates, [date]*len(y))\n",
    "        lats = np.append(lats, None)\n",
    "        lons = np.append(lons, None)\n",
    "        names = np.append(names, None)\n",
    "        dates = np.append(dates, None)\n"
   ]
  },
  {
   "cell_type": "code",
   "execution_count": null,
   "id": "ed7959d1",
   "metadata": {},
   "outputs": [],
   "source": [
    "### EXAMPLE COMMENTS\n",
    "\n",
    "# Create empty arrays for lats, longs, dates, and area names\n",
    "lats = []\n",
    "lons = []\n",
    "names = []\n",
    "dates = []\n",
    "\n",
    "# Iterate through geometry features, area names, and dates of tornadoes in geodataframe\n",
    "for feature, name, date in zip(tornadotrks.geometry, tornadotrks.NEAR_CMMTY, tornadotrks.YYYYMMDDHH):\n",
    "    if isinstance(feature, shapely.geometry.linestring.LineString):\n",
    "        linestrings = [feature] # If the feature is a linestring, create a list of the feature\n",
    "    else:\n",
    "        continue # Or skip to next iteration\n",
    "    for linestring in linestrings: # For each item in the list...\n",
    "        x, y = linestring.xy # Extract XY coords\n",
    "        lats = np.append(lats, y) # Add coord values to array\n",
    "        lons = np.append(lons, x)\n",
    "        names = np.append(names, [name]*len(y)) # Add corresponding name for lat-lon pairs\n",
    "        dates = np.append(dates, [date]*len(y))\n",
    "        lats = np.append(lats, None) # Append 'None' to separate linestrings\n",
    "        lons = np.append(lons, None)\n",
    "        names = np.append(names, None)\n",
    "        dates = np.append(dates, None)"
   ]
  },
  {
   "cell_type": "markdown",
   "id": "c773db28",
   "metadata": {},
   "source": [
    "### Your turn (1 mark):\n",
    "Use the plotly express .line_geo() function to animate the tornado tracks. \n",
    "\n",
    "*Hint: refer to the scatter_geo code for guidance and make sure you set the lat, lon, and animation_frame parameters to your new arrays. Arrays do not have to be contained in single quotation marks like fieldnames.*"
   ]
  },
  {
   "cell_type": "code",
   "execution_count": null,
   "id": "c874a8a5",
   "metadata": {},
   "outputs": [],
   "source": []
  },
  {
   "cell_type": "markdown",
   "id": "0c6acb66",
   "metadata": {},
   "source": [
    "Notice that a single linear feature appears for each timestamp, even if mutliple tornado tracks are recorded at the same day and time. This happens because the code merges arrays of XY values in the plot. If an array were created for years and the animation frame were set to years, all tracks recorded within the same year would be merged. You can test this out by updateing the date field from *YYYYMMDDHH* to *TornadoDat*."
   ]
  },
  {
   "cell_type": "markdown",
   "id": "38d846f5",
   "metadata": {},
   "source": [
    "Once you have completed the lab, export your notebook by selection File > Print Preview > Save as PDF \n",
    "\n",
    "Upload your PDF to Part 3 of the lab."
   ]
  }
 ],
 "metadata": {
  "kernelspec": {
   "display_name": "Python 3 (ipykernel)",
   "language": "python",
   "name": "python3"
  },
  "language_info": {
   "codemirror_mode": {
    "name": "ipython",
    "version": 3
   },
   "file_extension": ".py",
   "mimetype": "text/x-python",
   "name": "python",
   "nbconvert_exporter": "python",
   "pygments_lexer": "ipython3",
   "version": "3.11.6"
  }
 },
 "nbformat": 4,
 "nbformat_minor": 5
}
