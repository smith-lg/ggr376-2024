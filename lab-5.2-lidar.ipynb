{
 "cells": [
  {
   "cell_type": "markdown",
   "id": "ccebfbb3",
   "metadata": {},
   "source": [
    "# GGR376 LAB 5.2: Visualizing LiDAR Data using Python (4 marks)"
   ]
  },
  {
   "cell_type": "markdown",
   "id": "80207e02",
   "metadata": {},
   "source": [
    "In this part of the lab, we will be using the **laspy** library to read and store the LiDAR LAS data from Lab 2. The LiDAR data are stored as 3-dimensional XYZ **arrays**, where data for each point are organised into three columns. X and Y represent the horizontal position (east-west and north-south positions), while Z represents the height (elevation) of the point above the Earth's surface.\n",
    "\n",
    "Not all Python libraries are pre-installed and ready for import on the Jupyter hub. To use laspy, you therefore need to install it each time you open a new notebook in the hub - pip is a package management tool that easily allows you to do this.\n",
    "\n",
    "We will also use the **numpy** library which is particularly helpful when working with array data structures. Lastly, we will continue working with the pyplot module in the **matplotlib** library to visualize the point cloud data. More information about each library can be accessed via the following links:\n",
    "\n",
    "- [laspy](https://laspy.readthedocs.io/en/latest/index.html)\n",
    "- [numpy](https://numpy.org/devdocs/user/absolute_beginners.html)\n",
    "- [matplotlib](https://matplotlib.org/stable/api/pyplot_summary.html)\n",
    "\n",
    "Again, as you work through the notebook, look out for **Your turn** sections in which you are required to write your own code. As a reminder, all code must be clearly commented to demonstrate your understanding."
   ]
  },
  {
   "cell_type": "code",
   "execution_count": null,
   "id": "b124145b",
   "metadata": {},
   "outputs": [],
   "source": [
    "# Install laspy\n",
    "!pip install laspy"
   ]
  },
  {
   "cell_type": "code",
   "execution_count": null,
   "id": "f09e4499",
   "metadata": {},
   "outputs": [],
   "source": [
    "# Import required libraries (note numpy and matplot are already installed on the hub)\n",
    "import laspy\n",
    "import numpy as np\n",
    "import matplotlib.pyplot as plt"
   ]
  },
  {
   "cell_type": "code",
   "execution_count": null,
   "id": "fd1a3cc5",
   "metadata": {},
   "outputs": [],
   "source": [
    "# Read in the LAS data using the laspy read() function\n",
    "las = laspy.read('data/utor_original.las')\n",
    "\n",
    "# View details from the xml metdata (e.g., point format and the number of points within the dataset)\n",
    "las"
   ]
  },
  {
   "cell_type": "code",
   "execution_count": null,
   "id": "0bd310d1",
   "metadata": {},
   "outputs": [],
   "source": [
    "#View the attribute value names associated with the point cloud data\n",
    "list(las.point_format.dimension_names)"
   ]
  },
  {
   "cell_type": "markdown",
   "id": "2308c457",
   "metadata": {},
   "source": [
    "### Explore attribute values as arrays\n",
    "An array is a single variable which stores multiple values **(see Python handbook for a reminder)**. \n",
    "\n",
    "You can call any of the attribute field names and view the output as an array by typing `las.fieldname`. \n",
    "\n",
    "You can also view [summary statistics](https://numpy.org/doc/stable/reference/routines.statistics.html) by appending a numpy function to the fieldname e.g., `print(\"Mean:\", las.fieldname.mean())`\n",
    "\n",
    "### Your turn (1 mark):\n",
    "In the cell below, explore some of the values by replacing `fieldname` with a name of one of the fields listed in the cell above. Do you notice anything unusual about the X, Y and Z values? \n",
    "\n",
    "To view the 3-dimensional array, try calling las.xyz\n",
    "\n",
    "*Tip: If you'd like to add a new cell into a notebook, hold ESC and B keys or use the **+** symbol from the menu*"
   ]
  },
  {
   "cell_type": "code",
   "execution_count": null,
   "id": "c1996f65",
   "metadata": {},
   "outputs": [],
   "source": [
    "# Explore attribute values as arrays\n",
    "# Insert your code here and run the cell...\n",
    "\n"
   ]
  },
  {
   "cell_type": "markdown",
   "id": "aa41943a",
   "metadata": {},
   "source": [
    "### Explore the available classification codes\n",
    "The classification field contains the numbers that represent different classes. Rather than view all of the potential values as an array, we can convert the array to a Python set which stores unique values. You can visit https://desktop.arcgis.com/en/arcmap/latest/manage-data/las-dataset/lidar-point-classification.htm as a reminder for what classes the code values refer to.\n",
    "\n",
    "*Tip: If you click on the name of a function in a code cell and then hold SHIFT and TAB keys on your keyboard, you can access help documentation. Then expand the window for more details*"
   ]
  },
  {
   "cell_type": "code",
   "execution_count": null,
   "id": "f6c01081",
   "metadata": {},
   "outputs": [],
   "source": [
    "# View the unique classification codes\n",
    "set(list(las.classification)) # Convert classificatin attribute into Python list then convert list into set of unique values"
   ]
  },
  {
   "cell_type": "markdown",
   "id": "a3a2e2f8",
   "metadata": {},
   "source": [
    "Identifying the classification codes may be useful if you want to export points associated with a particular object on the Earth's surface, such as ground, buildings or vegetation. The following lines of code demonstrate how to do this for points classified as '2-ground'. \n",
    "\n",
    "Note that the new las file could be exported to your data folder by calling `ground.write('data/filename.las')`"
   ]
  },
  {
   "cell_type": "code",
   "execution_count": null,
   "id": "f0578bf3",
   "metadata": {},
   "outputs": [],
   "source": [
    "# Create a new LAS file for storing points classified as ground with the same format as our original file 'las'\n",
    "ground = laspy.create(point_format=las.header.point_format, file_version=las.header.version)\n",
    "\n",
    "# Assign points classified as 2 (ground) from original las file to points attribute of new ground las file\n",
    "ground.points = las.points[las.classification == 2]"
   ]
  },
  {
   "cell_type": "markdown",
   "id": "f5caf950",
   "metadata": {},
   "source": [
    "### 3D point cloud visualization\n",
    "Again, Python provides us with an excellent tool for EDA. We already have an idea of the file's different attribute values but it is also helpful to explore the visual output of the data.\n",
    "\n",
    "Let's start by creating a basic 2D scatter plot using the matplotlib [.scatter()](https://matplotlib.org/stable/api/_as_gen/matplotlib.pyplot.scatter.html) function. We can set the colour of the points to our Z value here."
   ]
  },
  {
   "cell_type": "code",
   "execution_count": null,
   "id": "6f618667",
   "metadata": {},
   "outputs": [],
   "source": [
    "# Create a scatter plot with colour changing based on Z values\n",
    "plt.scatter(las.X, \n",
    "            las.Y, # XY data positions\n",
    "            c=las.Z, # marker colours\n",
    "            cmap='viridis') # colour scheme\n",
    "\n",
    "plt.colorbar(label='Heights above sea level')  # Add colour bar to show Z values\n",
    "\n",
    "plt.xlabel('X')\n",
    "plt.ylabel('Y')\n",
    "plt.title('2D scatter plot of LiDAR points with heights shown')\n",
    "\n",
    "plt.show()"
   ]
  },
  {
   "cell_type": "markdown",
   "id": "b3e008fe",
   "metadata": {},
   "source": [
    "A 2D plot is helpful for a first glance of the data, but we can also view the data in 3D by adding a 3D subplot and including Z values as a parameter in our plot.\n",
    "\n",
    "You may wish to refer to the matplotlib [.scatter()](https://matplotlib.org/stable/api/_as_gen/matplotlib.pyplot.scatter.html) documentation or [W3Schools tutorial](https://www.w3schools.com/python/matplotlib_scatter.asp) to understand how to update the colour scheme, change the marker symbol etc."
   ]
  },
  {
   "cell_type": "code",
   "execution_count": null,
   "id": "b22c77b4",
   "metadata": {},
   "outputs": [],
   "source": [
    "# Create a figure object with a specified size\n",
    "fig = plt.figure(figsize=(10, 8))\n",
    "\n",
    "# Add a subplot to the figure with a 3D projection\n",
    "ax = fig.add_subplot(111, projection='3d')\n",
    "\n",
    "# Scatter plot points from 'las' data on the 3D axes\n",
    "# las.X, las.Y, and las.Z are assumed to be arrays or lists of x, y, and z coordinates\n",
    "ax.scatter(las.X, \n",
    "           las.Y,\n",
    "           las.Z, # XYZ data positions\n",
    "           c=las.Z, # marker colours\n",
    "           cmap='viridis') # colour scheme\n",
    "\n",
    "# Set labels for each axis\n",
    "ax.set_xlabel('X')\n",
    "ax.set_ylabel('Y')\n",
    "ax.set_zlabel('Z')\n",
    "\n",
    "# Set the title of the plot\n",
    "plt.title('3D scatter plot of LiDAR points')\n",
    "\n",
    "# Display  plot\n",
    "plt.show()"
   ]
  },
  {
   "cell_type": "markdown",
   "id": "fb7619a0",
   "metadata": {},
   "source": [
    "Notice that the output was a little slow as we are plotting over 3.5 million points! We can also see that our heights (and eastings and northings) appear to be in cm.\n",
    "\n",
    "For EDA, it may be helpful just to view a subset of point data for speed. In the following code we convert the Z values to metres above sea level and create a random subest of 1% of the data"
   ]
  },
  {
   "cell_type": "code",
   "execution_count": null,
   "id": "ce773fb1",
   "metadata": {},
   "outputs": [],
   "source": [
    "# Create new variable by completing the code below and converting Z values from cm to metres\n",
    "las.Zm = las.Z / 100\n",
    "las.Zm"
   ]
  },
  {
   "cell_type": "code",
   "execution_count": null,
   "id": "0cc168cb",
   "metadata": {},
   "outputs": [],
   "source": [
    "# Get total number of points in 'las' and store as a variable\n",
    "numpts = len(las.X)\n",
    "\n",
    "# Return new array of false values with the same length as the number of points\n",
    "mask = np.full(numpts, False)\n",
    "\n",
    "# Calculate the number of points to set as True (1% of numpts)\n",
    "mask[:int(numpts*0.01)] = True\n",
    "\n",
    "# Shuffle mask array to randomly distribute True values within it\n",
    "np.random.shuffle(mask)\n",
    "\n",
    "#Create new variables containing XYZ values from original data respectively. Use only data points from las where corresponding mask values are true\n",
    "xmask = las.X[mask]\n",
    "ymask = las.Y[mask]\n",
    "zmask = las.Zm[mask] # Use updated Z values here. You may also think about how to update XY values to m\n"
   ]
  },
  {
   "cell_type": "markdown",
   "id": "f6d1e9bb",
   "metadata": {},
   "source": [
    "### Your turn (3 marks):\n",
    "Using the code above for reference, create the following visualization:\n",
    "- 3D scatter plot of random subset of LiDAR data\n",
    "\n",
    "\n",
    "Trial different options here as we did in lab 5.1, such as adding a colourbar, incorporating a title, removing axes."
   ]
  },
  {
   "cell_type": "code",
   "execution_count": null,
   "id": "fed35488",
   "metadata": {},
   "outputs": [],
   "source": [
    "# 3D Scatter plot of subset of LiDAR data\n",
    "# Insert your code here and run the cell...\n",
    "\n"
   ]
  },
  {
   "cell_type": "markdown",
   "id": "d769fe71",
   "metadata": {},
   "source": [
    "The static 3D output is a little limited compared with the Scene layers we have been working with in ArcGIS Pro. Although not available to us through the UofT Jupyter hub, you may like to take a look at the following links to explore the potential capabilities of creating 3D interactive visualizations in just a couple of lines of code.\n",
    "\n",
    "* geemap library: https://geemap.org/notebooks/101_lidar\n",
    "* open3d library: http://www.open3d.org/docs/0.9.0/tutorial/Basic/pointcloud.html"
   ]
  },
  {
   "cell_type": "markdown",
   "id": "f648578f",
   "metadata": {},
   "source": [
    "Once you have completed the lab, export your notebook by selection File > Print Preview > Save as PDF \n",
    "\n",
    "Upload your PDF to Part 2 of the lab."
   ]
  }
 ],
 "metadata": {
  "kernelspec": {
   "display_name": "Python 3 (ipykernel)",
   "language": "python",
   "name": "python3"
  },
  "language_info": {
   "codemirror_mode": {
    "name": "ipython",
    "version": 3
   },
   "file_extension": ".py",
   "mimetype": "text/x-python",
   "name": "python",
   "nbconvert_exporter": "python",
   "pygments_lexer": "ipython3",
   "version": "3.11.6"
  }
 },
 "nbformat": 4,
 "nbformat_minor": 5
}
